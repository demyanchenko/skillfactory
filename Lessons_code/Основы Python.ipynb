{
 "cells": [
  {
   "cell_type": "markdown",
   "metadata": {},
   "source": [
    "# Это заголовок первого уровня\n",
    "## Это заголовок второго уровня\n",
    "\n",
    "Список:\n",
    "- Первый элемент списка\n",
    "- Второй элемент списка"
   ]
  },
  {
   "cell_type": "code",
   "execution_count": 7,
   "metadata": {},
   "outputs": [
    {
     "name": "stdout",
     "output_type": "stream",
     "text": [
      "HelloWorld!\n"
     ]
    }
   ],
   "source": [
    "print(\"Hello\"+\"World!\")"
   ]
  },
  {
   "cell_type": "markdown",
   "metadata": {},
   "source": [
    "## Операторы"
   ]
  },
  {
   "cell_type": "code",
   "execution_count": 13,
   "metadata": {},
   "outputs": [
    {
     "data": {
      "text/plain": [
       "5"
      ]
     },
     "execution_count": 13,
     "metadata": {},
     "output_type": "execute_result"
    }
   ],
   "source": [
    "2+3"
   ]
  },
  {
   "cell_type": "code",
   "execution_count": 14,
   "metadata": {},
   "outputs": [
    {
     "data": {
      "text/plain": [
       "2"
      ]
     },
     "execution_count": 14,
     "metadata": {},
     "output_type": "execute_result"
    }
   ],
   "source": [
    "5-3"
   ]
  },
  {
   "cell_type": "code",
   "execution_count": 15,
   "metadata": {},
   "outputs": [
    {
     "data": {
      "text/plain": [
       "12"
      ]
     },
     "execution_count": 15,
     "metadata": {},
     "output_type": "execute_result"
    }
   ],
   "source": [
    "3*4"
   ]
  },
  {
   "cell_type": "code",
   "execution_count": 16,
   "metadata": {},
   "outputs": [
    {
     "data": {
      "text/plain": [
       "4.0"
      ]
     },
     "execution_count": 16,
     "metadata": {},
     "output_type": "execute_result"
    }
   ],
   "source": [
    "12/3"
   ]
  },
  {
   "cell_type": "markdown",
   "metadata": {},
   "source": [
    "## Целая часть от деления //"
   ]
  },
  {
   "cell_type": "code",
   "execution_count": 125,
   "metadata": {},
   "outputs": [
    {
     "data": {
      "text/plain": [
       "2"
      ]
     },
     "execution_count": 125,
     "metadata": {},
     "output_type": "execute_result"
    }
   ],
   "source": [
    "7//3"
   ]
  },
  {
   "cell_type": "markdown",
   "metadata": {},
   "source": [
    "## Остаток от деления %"
   ]
  },
  {
   "cell_type": "code",
   "execution_count": 124,
   "metadata": {},
   "outputs": [
    {
     "data": {
      "text/plain": [
       "1"
      ]
     },
     "execution_count": 124,
     "metadata": {},
     "output_type": "execute_result"
    }
   ],
   "source": [
    "7%3"
   ]
  },
  {
   "cell_type": "markdown",
   "metadata": {},
   "source": [
    "## Возведение в степень **"
   ]
  },
  {
   "cell_type": "code",
   "execution_count": 20,
   "metadata": {},
   "outputs": [
    {
     "data": {
      "text/plain": [
       "8"
      ]
     },
     "execution_count": 20,
     "metadata": {},
     "output_type": "execute_result"
    }
   ],
   "source": [
    "2**3"
   ]
  },
  {
   "cell_type": "code",
   "execution_count": 21,
   "metadata": {},
   "outputs": [],
   "source": [
    "## Извлечь корень **(<1)"
   ]
  },
  {
   "cell_type": "code",
   "execution_count": 22,
   "metadata": {},
   "outputs": [
    {
     "data": {
      "text/plain": [
       "2.0"
      ]
     },
     "execution_count": 22,
     "metadata": {},
     "output_type": "execute_result"
    }
   ],
   "source": [
    "4**(1/2)"
   ]
  },
  {
   "cell_type": "code",
   "execution_count": 23,
   "metadata": {},
   "outputs": [
    {
     "data": {
      "text/plain": [
       "2.0"
      ]
     },
     "execution_count": 23,
     "metadata": {},
     "output_type": "execute_result"
    }
   ],
   "source": [
    "8**(1/3)"
   ]
  },
  {
   "cell_type": "markdown",
   "metadata": {},
   "source": [
    "# Задачи"
   ]
  },
  {
   "cell_type": "markdown",
   "metadata": {},
   "source": [
    "![Формула](https://lms.skillfactory.ru/assets/courseware/v1/0d22e36137ee59805833400adf136815/asset-v1:Skillfactory+DST-WEEKLY-2.0+08JULY2020+type@asset+block/Screenshot_2019-04-09_at_16.37.14.png \"Вычислите формулу\")"
   ]
  },
  {
   "cell_type": "code",
   "execution_count": 24,
   "metadata": {},
   "outputs": [
    {
     "data": {
      "text/plain": [
       "20.0"
      ]
     },
     "execution_count": 24,
     "metadata": {},
     "output_type": "execute_result"
    }
   ],
   "source": [
    "(67+33)*(25-20)/25"
   ]
  },
  {
   "cell_type": "markdown",
   "metadata": {},
   "source": [
    "![](https://lms.skillfactory.ru/assets/courseware/v1/bd66d9520e44205e024494fe26c1f55b/asset-v1:Skillfactory+DST-WEEKLY-2.0+08JULY2020+type@asset+block/Screenshot_2019-04-09_at_16.42.52.png)"
   ]
  },
  {
   "cell_type": "code",
   "execution_count": 27,
   "metadata": {},
   "outputs": [
    {
     "data": {
      "text/plain": [
       "17.414074767267998"
      ]
     },
     "execution_count": 27,
     "metadata": {},
     "output_type": "execute_result"
    }
   ],
   "source": [
    "(4+(5*60)-17+(65/4))**(1/2)"
   ]
  },
  {
   "cell_type": "markdown",
   "metadata": {},
   "source": [
    "![](https://lms.skillfactory.ru/assets/courseware/v1/0d1c8108453b4ad836bde51c87144afc/asset-v1:Skillfactory+DST-WEEKLY-2.0+08JULY2020+type@asset+block/Screenshot_2019-04-09_at_16.55.07.png)"
   ]
  },
  {
   "cell_type": "code",
   "execution_count": 30,
   "metadata": {},
   "outputs": [
    {
     "data": {
      "text/plain": [
       "1916.7312813742387"
      ]
     },
     "execution_count": 30,
     "metadata": {},
     "output_type": "execute_result"
    }
   ],
   "source": [
    "6.996+45*((13/2)**2)+2*18**(1/2)"
   ]
  },
  {
   "cell_type": "markdown",
   "metadata": {},
   "source": [
    "![](https://lms.skillfactory.ru/assets/courseware/v1/c87f37d605198678a72df1c394e0683f/asset-v1:Skillfactory+DST-WEEKLY-2.0+08JULY2020+type@asset+block/Screenshot_2019-04-09_at_16.57.00.png)"
   ]
  },
  {
   "cell_type": "code",
   "execution_count": 63,
   "metadata": {},
   "outputs": [
    {
     "data": {
      "text/plain": [
       "-0.3909200032552083"
      ]
     },
     "execution_count": 63,
     "metadata": {},
     "output_type": "execute_result"
    }
   ],
   "source": [
    "((1267-20* ( ( (5**3)/2 )**2) ) ) / ((8**5)*(36**(1/2)))"
   ]
  },
  {
   "cell_type": "markdown",
   "metadata": {},
   "source": [
    "![](https://lms.skillfactory.ru/assets/courseware/v1/4e5dd3e701139b139c0fd28e8c7207a8/asset-v1:Skillfactory+DST-WEEKLY-2.0+08JULY2020+type@asset+block/Screenshot_2019-04-09_at_16.59.52.png)"
   ]
  },
  {
   "cell_type": "code",
   "execution_count": 70,
   "metadata": {
    "scrolled": true
   },
   "outputs": [
    {
     "data": {
      "text/plain": [
       "-4251528.0"
      ]
     },
     "execution_count": 70,
     "metadata": {},
     "output_type": "execute_result"
    }
   ],
   "source": [
    "((((9**(1/2))**3)**2)**2) / (-2**(-3))"
   ]
  },
  {
   "cell_type": "markdown",
   "metadata": {},
   "source": [
    "## Ввод данных с клавиатуры"
   ]
  },
  {
   "cell_type": "code",
   "execution_count": 75,
   "metadata": {},
   "outputs": [
    {
     "name": "stdout",
     "output_type": "stream",
     "text": [
      "Введите своё имя:\n",
      "Александр\n",
      "Сегодня Вас зовут Александр\n"
     ]
    }
   ],
   "source": [
    "name=input(\"Введите своё имя:\\n\")\n",
    "print(\"Сегодня Вас зовут\", name)"
   ]
  },
  {
   "cell_type": "code",
   "execution_count": 76,
   "metadata": {
    "scrolled": true
   },
   "outputs": [
    {
     "name": "stdout",
     "output_type": "stream",
     "text": [
      "Введите слово:Очаровательно\n",
      "13\n"
     ]
    }
   ],
   "source": [
    "world = input('Введите слово:')\n",
    "print(len(world))"
   ]
  },
  {
   "cell_type": "code",
   "execution_count": 88,
   "metadata": {
    "scrolled": true
   },
   "outputs": [
    {
     "name": "stdout",
     "output_type": "stream",
     "text": [
      "Введите целое число а:117.4\n",
      "Введите целое число b:23.9\n",
      "2\n"
     ]
    }
   ],
   "source": [
    "a = int(float(input(\"Введите целое число а:\")))\n",
    "b = int(float(input(\"Введите целое число b:\")))\n",
    "print(a%b)"
   ]
  },
  {
   "cell_type": "markdown",
   "metadata": {},
   "source": [
    "### Среднее геометрическое:"
   ]
  },
  {
   "cell_type": "code",
   "execution_count": 93,
   "metadata": {
    "scrolled": true
   },
   "outputs": [
    {
     "name": "stdout",
     "output_type": "stream",
     "text": [
      "Введите целое число а:12\n",
      "Введите целое число b:17\n",
      "Введите целое число c:25\n",
      "17.213006207263156\n"
     ]
    }
   ],
   "source": [
    "a = float(input(\"Введите целое число а:\"))\n",
    "b = float(input(\"Введите целое число b:\"))\n",
    "c = float(input(\"Введите целое число c:\"))\n",
    "print((a*b*c)**(1/3))"
   ]
  },
  {
   "attachments": {
    "image.png": {
     "image/png": "[encoded data removed]"
    }
   },
   "cell_type": "markdown",
   "metadata": {},
   "source": [
    "## Посчитайте функцию, указав на входе значение аргумента x:\n",
    "![image.png](attachment:image.png)"
   ]
  },
  {
   "cell_type": "code",
   "execution_count": 99,
   "metadata": {},
   "outputs": [
    {
     "name": "stdout",
     "output_type": "stream",
     "text": [
      "Введите значение аргумента x:100500\n",
      "113628013506.996\n"
     ]
    }
   ],
   "source": [
    "x = float(input('Введите значение аргумента x:'))\n",
    "print(6.996+45*(x/2)**2+2*x)"
   ]
  },
  {
   "cell_type": "markdown",
   "metadata": {},
   "source": [
    "## Расчитайте индекс тела:"
   ]
  },
  {
   "cell_type": "code",
   "execution_count": 101,
   "metadata": {},
   "outputs": [
    {
     "name": "stdout",
     "output_type": "stream",
     "text": [
      "Ваш вес (в кг):65\n",
      "Ваш рост (в метрах):1.76\n",
      "20.983987603305785\n"
     ]
    }
   ],
   "source": [
    "weight = float(input(\"Ваш вес (в кг):\"))\n",
    "height = float(input(\"Ваш рост (в метрах):\"))\n",
    "print(weight/height**2)"
   ]
  },
  {
   "cell_type": "markdown",
   "metadata": {},
   "source": [
    "### Напишите программу, которая принимает на вход два числа (a и b) и выводит корень третьей степени их среднего арифметического на экран."
   ]
  },
  {
   "cell_type": "code",
   "execution_count": 104,
   "metadata": {},
   "outputs": [
    {
     "name": "stdout",
     "output_type": "stream",
     "text": [
      "270\n",
      "12.8\n",
      "5.209745039548078\n"
     ]
    }
   ],
   "source": [
    "a = float(input())\n",
    "b = float(input())\n",
    "print(((a+b)/2)**(1/3))"
   ]
  },
  {
   "cell_type": "code",
   "execution_count": 107,
   "metadata": {
    "scrolled": true
   },
   "outputs": [
    {
     "name": "stdout",
     "output_type": "stream",
     "text": [
      "15\n",
      "Вы ввели число, которое при умножении на 3 даёт 45\n"
     ]
    }
   ],
   "source": [
    "a = int(input())\n",
    "print(\"Вы ввели число, которое при умножении на 3 даёт\", a*3)"
   ]
  },
  {
   "cell_type": "markdown",
   "metadata": {},
   "source": [
    "### Среднее геометрическое длин строк:\n",
    "(Произведение N чисел взятое в корень N-степени)"
   ]
  },
  {
   "cell_type": "code",
   "execution_count": 112,
   "metadata": {},
   "outputs": [
    {
     "name": "stdout",
     "output_type": "stream",
     "text": [
      "Введите сроку 1:Руерщт\n",
      "Введите сроку 2:Оппаа!\n",
      "Введите сроку 3:И тарама!\n",
      "6.868285455319991\n"
     ]
    }
   ],
   "source": [
    "string_1 = input(\"Введите сроку 1:\")\n",
    "string_2 = input(\"Введите сроку 2:\")\n",
    "string_3 = input(\"Введите сроку 3:\")\n",
    "print((len(string_1)*len(string_2)*len(string_3))**(1/3))"
   ]
  },
  {
   "cell_type": "markdown",
   "metadata": {},
   "source": [
    "Напишите программу, которая принимает на вход строку и целое число и выводит на экран эту строку, её длину и её длину в степени введённого целого числа. При введении, например, строки \"привет\" и числа \"2\" на экране должно быть выведено \"привет 6 36\". Названия переменной string, power."
   ]
  },
  {
   "cell_type": "code",
   "execution_count": 114,
   "metadata": {},
   "outputs": [
    {
     "name": "stdout",
     "output_type": "stream",
     "text": [
      "привет\n",
      "2\n",
      "привет 6 36\n"
     ]
    }
   ],
   "source": [
    "string = input()\n",
    "power = int(input())\n",
    "print(string, len(string), len(string)**power)"
   ]
  },
  {
   "cell_type": "markdown",
   "metadata": {},
   "source": [
    "## Условные операторы"
   ]
  },
  {
   "cell_type": "code",
   "execution_count": 118,
   "metadata": {},
   "outputs": [
    {
     "name": "stdout",
     "output_type": "stream",
     "text": [
      "Введите слово для определения его длины:Златоглавая\n",
      "Это слово длинное.\n"
     ]
    }
   ],
   "source": [
    "word = input(\"Введите слово для определения его длины:\")\n",
    "if len(word)>7:\n",
    "    print(\"Это слово длинное.\")\n",
    "else:\n",
    "    print(\"Это слово короткое.\")"
   ]
  },
  {
   "cell_type": "code",
   "execution_count": 121,
   "metadata": {},
   "outputs": [
    {
     "name": "stdout",
     "output_type": "stream",
     "text": [
      "Введите слово для определение его редкости:оркестр\n",
      "Эх, это не очень редкое слово...\n"
     ]
    }
   ],
   "source": [
    "word = input(\"Введите слово для определение его редкости:\")\n",
    "if 'ф' in word:\n",
    "    print(\"Ого! Вы ввели редкое слово!\")\n",
    "else:\n",
    "    print(\"Эх, это не очень редкое слово...\")"
   ]
  },
  {
   "cell_type": "code",
   "execution_count": 123,
   "metadata": {},
   "outputs": [
    {
     "name": "stdout",
     "output_type": "stream",
     "text": [
      "Введите слово:опорожнение\n",
      "Введите искомую букву:ф\n",
      "Выбранной буквы нет в введённом слове\n"
     ]
    }
   ],
   "source": [
    "word = input(\"Введите слово:\")\n",
    "letter = input(\"Введите искомую букву:\")\n",
    "if letter in word:\n",
    "    print(\"Выбранная буква есть в введённом слове\")\n",
    "else:\n",
    "    print(\"Выбранной буквы нет в введённом слове\")"
   ]
  },
  {
   "cell_type": "markdown",
   "metadata": {},
   "source": [
    "Напишите программу, которая проверяет, является ли квадратный корень из заданного целого положительного числа (number) целым числом."
   ]
  },
  {
   "cell_type": "code",
   "execution_count": 138,
   "metadata": {},
   "outputs": [
    {
     "name": "stdout",
     "output_type": "stream",
     "text": [
      "Введите целое положительное число: 169\n",
      "13\n"
     ]
    }
   ],
   "source": [
    "number = int(input(\"Введите целое положительное число: \"))\n",
    "if (number**(1/2) - int(number**(1/2))) > 0:\n",
    "    print(\"Квадратный корень из\", number, \"- не целое число\")\n",
    "else:\n",
    "    print(int(number**(1/2)))"
   ]
  },
  {
   "cell_type": "code",
   "execution_count": 139,
   "metadata": {},
   "outputs": [
    {
     "name": "stdout",
     "output_type": "stream",
     "text": [
      "10 7\n",
      "7 10\n"
     ]
    }
   ],
   "source": [
    "a=10\n",
    "b=7\n",
    "print(a, b)\n",
    "(a, b) = (b, a)\n",
    "print(a, b)"
   ]
  },
  {
   "cell_type": "code",
   "execution_count": 143,
   "metadata": {},
   "outputs": [
    {
     "name": "stdout",
     "output_type": "stream",
     "text": [
      "Введите целое число дня недели: 8\n",
      "Вы ввели какую-то дич!\n"
     ]
    }
   ],
   "source": [
    "number = int(input(\"Введите целое число дня недели: \"))\n",
    "if number == 1:\n",
    "    print(\"понедельник\")\n",
    "elif number == 2:\n",
    "   print(\"вторник\")\n",
    "elif number == 3:\n",
    "   print(\"среда\")\n",
    "elif number == 4:\n",
    "   print(\"четверг\")\n",
    "elif number == 5:\n",
    "   print(\"пятница\")\n",
    "elif number == 6:\n",
    "   print(\"суббота\")\n",
    "elif number == 7:\n",
    "   print(\"воскресенье\")\n",
    "else:\n",
    "    print(\"Вы ввели какую-то дич!\")"
   ]
  },
  {
   "cell_type": "markdown",
   "metadata": {},
   "source": [
    "### Посчитать ИМТ в категориях мало/норм/много"
   ]
  },
  {
   "cell_type": "code",
   "execution_count": 150,
   "metadata": {},
   "outputs": [
    {
     "name": "stdout",
     "output_type": "stream",
     "text": [
      "80\n",
      "1.8\n",
      "Норма\n"
     ]
    }
   ],
   "source": [
    "weight = float(input())\n",
    "height = float(input())\n",
    "imt = weight/height**2\n",
    "if imt < 18.5:\n",
    "    print(\"Недостаточная масса тела\")\n",
    "elif imt < 25:\n",
    "    print(\"Норма\")\n",
    "else:\n",
    "    print(\"Избыточная масса тела\")"
   ]
  },
  {
   "cell_type": "markdown",
   "metadata": {},
   "source": [
    "В университете принята следующая шкала оценок: меньше 4 — 'неудовлетворительно', 4-5 —'удовлетворительно', 6-7 — 'хорошо', 8 и выше — 'отлично'. Напишите программу, которая принимает на вход полученную оценку (mark) и расшифровывает её таким образом: вводимая оценка — число от 1 до 10."
   ]
  },
  {
   "cell_type": "code",
   "execution_count": 167,
   "metadata": {},
   "outputs": [
    {
     "name": "stdout",
     "output_type": "stream",
     "text": [
      "Введите оценку от 1 до 10: 4.6\n",
      "удовлетворительно\n"
     ]
    }
   ],
   "source": [
    "mark = int(float(input(\"Введите оценку от 1 до 10: \")))\n",
    "if mark < 4:\n",
    "    print(\"неудовлетворительно\")\n",
    "elif mark <= 5:\n",
    "    print(\"удовлетворительно\")\n",
    "elif mark <= 7:\n",
    "    print(\"хорошо\")\n",
    "else:\n",
    "    print(\"отлично\")\n",
    "    "
   ]
  },
  {
   "cell_type": "markdown",
   "metadata": {},
   "source": [
    "Если же у него меньше пяти тысяч, но больше 2,5 тысяч рублей, он может сходить только в фастфуд. Если меньше, то придется терпеть до зарплаты.\n",
    "\n",
    "Напишите программу, которая принимает на вход количество оставшихся денег в рублях и говорит, можно ли человеку пойти в ресторан. Варианты ответа программы: Сегодня твой выбор — ресторан!, Эх, только фастфуд… и Придется потерпеть!."
   ]
  },
  {
   "cell_type": "code",
   "execution_count": 177,
   "metadata": {},
   "outputs": [
    {
     "name": "stdout",
     "output_type": "stream",
     "text": [
      "Сколько у вас денег? 455\n",
      "Придется потерпеть!\n"
     ]
    }
   ],
   "source": [
    "balance = int(input(\"Сколько у вас денег? \"))\n",
    "if balance < 2500:\n",
    "    print(\"Придется потерпеть!\")\n",
    "elif balance < 5000:\n",
    "    print(\"Эх, только фастфуд...\")\n",
    "else:\n",
    "    print(\"Сегодня твой выбор - ресторан!\")"
   ]
  },
  {
   "cell_type": "code",
   "execution_count": 182,
   "metadata": {},
   "outputs": [
    {
     "name": "stdout",
     "output_type": "stream",
     "text": [
      "Сколько у вас денег? 455\n",
      "Придется потерпеть!\n"
     ]
    }
   ],
   "source": [
    "balance = int(input(\"Сколько у вас денег? \"))\n",
    "if balance >= 5000:\n",
    "    print(\"Сегодня твой выбор - ресторан!\")\n",
    "elif 2500 < balance < 5000:\n",
    "    print(\"Эх, только фастфуд...\")\n",
    "else:\n",
    "    print(\"Придется потерпеть!\")"
   ]
  },
  {
   "cell_type": "markdown",
   "metadata": {},
   "source": [
    "Напишите программу, которая принимает на вход целое число (number) и проверяет его на делимость на 2, 3 и 5. При делимости на 2 без остатка она выведет \"Число делится на 2 без остатка.\", иначе при делимости на 3 выведет \"Число делится на 3 без остатка.\", иначе при делимости на 5 выведет \"Число делится на 5 без остатка.\", а иначе выведет \"Число не делится ни на 2, ни на 3, ни на 5 без остатка!\". Для проверки используйте number = 452"
   ]
  },
  {
   "cell_type": "code",
   "execution_count": 188,
   "metadata": {},
   "outputs": [
    {
     "name": "stdout",
     "output_type": "stream",
     "text": [
      "Введите целое число: 452\n",
      "Число делится на 2 без остатка.\n"
     ]
    }
   ],
   "source": [
    "number = int(input(\"Введите целое число: \"))\n",
    "if number % 2 == 0:\n",
    "    print(\"Число делится на 2 без остатка.\")\n",
    "elif number % 3 == 0:\n",
    "    print(\"Число делится на 3 без остатка.\")\n",
    "elif number % 5 == 0:\n",
    "    print(\"Число делится на 5 без остатка.\")\n",
    "else:\n",
    "    print(\"Число не делится ни на 2, ни на 3, ни на 5 без остатка!\")"
   ]
  },
  {
   "cell_type": "code",
   "execution_count": 217,
   "metadata": {},
   "outputs": [
    {
     "name": "stdout",
     "output_type": "stream",
     "text": [
      "Назваие цветов: роза\n",
      "Цвет: фиолетовый\n",
      "Аня не любит такие цветы\n"
     ]
    }
   ],
   "source": [
    "flower = input(\"Назваие цветов: \")\n",
    "color = input(\"Цвет: \")\n",
    "if flower == \"роза\" and color == \"синий\" or color == \"белый\":\n",
    "    print(\"Ане понравятся эти цветы\")\n",
    "else:\n",
    "    print(\"Аня не любит такие цветы\")"
   ]
  },
  {
   "cell_type": "code",
   "execution_count": 224,
   "metadata": {},
   "outputs": [
    {
     "name": "stdout",
     "output_type": "stream",
     "text": [
      "Укажите рост: 180\n",
      "Укажите вес: 92\n",
      "Укажите любимый цвет: синий\n",
      "Попробуем поискать ещё...\n"
     ]
    }
   ],
   "source": [
    "height = input(\"Укажите рост: \")\n",
    "weight = input(\"Укажите вес: \")\n",
    "color = input(\"Укажите любимый цвет: \")\n",
    "if int(height) > 170 and int(weight) < 80 and color == 'красный':\n",
    "    print(\"Ваша половинка нашлась!\")\n",
    "else:\n",
    "    print(\"Попробуем поискать ещё...\")"
   ]
  },
  {
   "cell_type": "markdown",
   "metadata": {},
   "source": [
    "Программа принимает на вход слово (fav_word), и если это \"рептилия\", \"питон\" или \"змея\", выводит \"Python\", если это \"плюс\" или \"плюсы\", выводит \"C++\", если это \"рубин\" или \"кристалл\", выводит \"Ruby\". Ну, а если что-то другое, то тоже выводит \"Python\"."
   ]
  },
  {
   "cell_type": "code",
   "execution_count": 248,
   "metadata": {},
   "outputs": [
    {
     "name": "stdout",
     "output_type": "stream",
     "text": [
      "Введите слово:аппликация\n",
      "Python\n"
     ]
    }
   ],
   "source": [
    "fav_word = input(\"Введите слово:\")\n",
    "if fav_word in ['рептилия', 'питон', 'змея']:\n",
    "    print(\"Python\")\n",
    "elif fav_word in ['плюс','плюсы']:\n",
    "    print(\"C++\")\n",
    "elif fav_word in ['рубин','кристалл']:\n",
    "    print(\"Ruby\")\n",
    "else:\n",
    "    print(\"Python\")"
   ]
  },
  {
   "cell_type": "markdown",
   "metadata": {},
   "source": [
    "Преподаватель ведёт занятия с 10:30 до 12:00, с 13:40 до 15:00, с 18:00 до 19:30. В университет он приходит в 10 утра, а уходит - в 20 часов. Время в университете, свободное от занятий, он посвящает консультированию студентов. Напишите программу, которая помогла бы студентам подстроиться под свободное время преподавателя: пусть они вводят желаемое время (сначала одно число — часы (hour), затем второе — минуты (minute)), а программа показывает, свободен преподаватель в это время или нет (выводит на экран \"Преподаватель свободен.\" или \"Преподаватель занят.\", соответственно). "
   ]
  },
  {
   "cell_type": "code",
   "execution_count": 303,
   "metadata": {
    "scrolled": true
   },
   "outputs": [
    {
     "name": "stdout",
     "output_type": "stream",
     "text": [
      "Час:20\n",
      "Минуты:00\n",
      "Преподаватель занят.\n"
     ]
    }
   ],
   "source": [
    "hour = int(input(\"Час:\"))\n",
    "minute = int(input(\"Минуты:\"))\n",
    "if hour < 10 or hour >= 20 or hour == 10 and minute >= 30 or hour == 11 or hour == 13 and minute >= 40 or hour == 14 or hour == 18 or hour == 19 and minute < 30:\n",
    "    print(\"Преподаватель занят.\")\n",
    "else:\n",
    "    print(\"Преподаватель свободен.\")\n"
   ]
  },
  {
   "cell_type": "markdown",
   "metadata": {},
   "source": [
    "Задание. Вывести нечётные симолы из строки:"
   ]
  },
  {
   "cell_type": "code",
   "execution_count": 313,
   "metadata": {},
   "outputs": [
    {
     "name": "stdout",
     "output_type": "stream",
     "text": [
      "Введите слово: подшипник\n",
      "п\n",
      "д\n",
      "и\n",
      "н\n",
      "к\n"
     ]
    }
   ],
   "source": [
    "word = input(\"Введите слово: \")\n",
    "for i, letter in enumerate(word,1):\n",
    "    if i%2 != 0:\n",
    "        print(letter)"
   ]
  },
  {
   "cell_type": "markdown",
   "metadata": {},
   "source": [
    "### Вычислить высокосные годы в диапазоне лет:"
   ]
  },
  {
   "cell_type": "code",
   "execution_count": 321,
   "metadata": {},
   "outputs": [
    {
     "name": "stdout",
     "output_type": "stream",
     "text": [
      "Введите год начала диапазона:2013\n",
      "Введите год завершения диапазона:2020\n",
      "2013 год високосный\n",
      "2014 год високосный\n",
      "2015 год високосный\n",
      "2016 год високосный\n",
      "2017 год високосный\n",
      "2018 год високосный\n",
      "2019 год високосный\n",
      "2020 год високосный\n"
     ]
    }
   ],
   "source": [
    "year_1 = int(input(\"Введите год начала диапазона:\"))\n",
    "year_2 = int(input(\"Введите год завершения диапазона:\"))\n",
    "\n",
    "for cur_year in range(year_1, year_2+1):\n",
    "    if cur_year%4 == 0:\n",
    "        print(cur_year, \"год високосный\")\n",
    "    else:\n",
    "        print(cur_year, \"год невисокосный\")"
   ]
  },
  {
   "cell_type": "markdown",
   "metadata": {},
   "source": [
    "### Вывести только русские гласные буквы:"
   ]
  },
  {
   "cell_type": "code",
   "execution_count": 323,
   "metadata": {
    "scrolled": true
   },
   "outputs": [
    {
     "name": "stdout",
     "output_type": "stream",
     "text": [
      "Введите слово для проверки: Зимушка-зима\n",
      "и\n",
      "у\n",
      "а\n",
      "и\n",
      "а\n"
     ]
    }
   ],
   "source": [
    "word = input(\"Введите слово для проверки: \")\n",
    "symbols = ['а', 'я', 'о', 'е', 'ё', 'и', 'ы', 'у', 'ю', 'ы', 'э']\n",
    "for i,letter in enumerate(word):\n",
    "    if letter in symbols:\n",
    "        print(letter)"
   ]
  },
  {
   "cell_type": "markdown",
   "metadata": {},
   "source": [
    "### Введите имя!"
   ]
  },
  {
   "cell_type": "code",
   "execution_count": 326,
   "metadata": {},
   "outputs": [
    {
     "name": "stdout",
     "output_type": "stream",
     "text": [
      "Введите имя: Сергей\n",
      "Буква 1 в этом имени - С\n",
      "Буква 2 в этом имени - е\n",
      "Буква 3 в этом имени - р\n",
      "Буква 4 в этом имени - г\n",
      "Буква 5 в этом имени - е\n",
      "Буква 6 в этом имени - й\n"
     ]
    }
   ],
   "source": [
    "name = input(\"Введите имя: \")\n",
    "for i,letter in enumerate(name,1):\n",
    "    print(\"Буква\", i, \"в этом имени -\", letter)"
   ]
  },
  {
   "cell_type": "markdown",
   "metadata": {},
   "source": [
    "Напишите программу, которая последовательно выводит нечётные числа, которые делятся на 3 или 5, от первого введённого числа (num_1) до второго введённого числа (num_2) включительно. Если второе число меньше первого или первое число меньше нуля, выведите \"Введён неверный диапазон чисел\"."
   ]
  },
  {
   "cell_type": "code",
   "execution_count": 340,
   "metadata": {},
   "outputs": [
    {
     "name": "stdout",
     "output_type": "stream",
     "text": [
      "Введите начало диапазона: 25\n",
      "Введите конец диапазона: 45\n",
      "25\n",
      "27\n",
      "33\n",
      "35\n",
      "39\n",
      "45\n"
     ]
    }
   ],
   "source": [
    "num_1 = int(input(\"Введите начало диапазона: \"))\n",
    "num_2 = int(input(\"Введите конец диапазона: \"))\n",
    "if num_2 < num_1 or num_1 < 0:\n",
    "    print(\"Введён неверный диапазон чисел\")\n",
    "else:\n",
    "    for num in range(num_1, num_2+1):\n",
    "        if num%2 != 0 and num%3 == 0 or num%2 != 0 and num%5 == 0:\n",
    "            print(num)"
   ]
  },
  {
   "cell_type": "markdown",
   "metadata": {},
   "source": [
    "Выведите таблицу квадратов и кубов для чисел от 1 до 10 включительно. (Каждая новая строчка распечатывается через print() и имеет формат '2 4 8', то есть число, затем его квадрат, а затем его куб)"
   ]
  },
  {
   "cell_type": "code",
   "execution_count": 341,
   "metadata": {
    "scrolled": true
   },
   "outputs": [
    {
     "name": "stdout",
     "output_type": "stream",
     "text": [
      "1 1 1\n",
      "2 4 8\n",
      "3 9 27\n",
      "4 16 64\n",
      "5 25 125\n",
      "6 36 216\n",
      "7 49 343\n",
      "8 64 512\n",
      "9 81 729\n",
      "10 100 1000\n"
     ]
    }
   ],
   "source": [
    "for i in range(1,11):\n",
    "    print(i, i**2, i**3)"
   ]
  },
  {
   "cell_type": "markdown",
   "metadata": {},
   "source": [
    "Вывести все делители числа:"
   ]
  },
  {
   "cell_type": "code",
   "execution_count": 346,
   "metadata": {},
   "outputs": [
    {
     "name": "stdout",
     "output_type": "stream",
     "text": [
      "Введите число: 84\n",
      "1\n",
      "2\n",
      "3\n",
      "4\n",
      "6\n",
      "7\n",
      "12\n",
      "14\n",
      "21\n",
      "28\n",
      "42\n",
      "84\n"
     ]
    }
   ],
   "source": [
    "number = int(input(\"Введите число: \"))\n",
    "for i in range(1,number+1):\n",
    "    if number%i == 0:\n",
    "        print(i)"
   ]
  },
  {
   "cell_type": "markdown",
   "metadata": {},
   "source": [
    "### Общий делитель"
   ]
  },
  {
   "cell_type": "code",
   "execution_count": 352,
   "metadata": {},
   "outputs": [
    {
     "name": "stdout",
     "output_type": "stream",
     "text": [
      "Введите первое число:12\n",
      "Введите второе число:38\n",
      "2\n"
     ]
    }
   ],
   "source": [
    "num_1 = int(input(\"Введите первое число:\"))\n",
    "num_2 = int(input(\"Введите второе число:\"))\n",
    "if num_1 < num_2:\n",
    "    count = num_1\n",
    "else:\n",
    "    count = num_2\n",
    "for i in range(2, count+1):\n",
    "    if num_1%i == 0 and num_2%i == 0:\n",
    "        print(i)"
   ]
  },
  {
   "cell_type": "markdown",
   "metadata": {},
   "source": [
    "### Ряд Фибоначчи"
   ]
  },
  {
   "cell_type": "code",
   "execution_count": 368,
   "metadata": {},
   "outputs": [
    {
     "name": "stdout",
     "output_type": "stream",
     "text": [
      "Введите размерность ряда Фибоначчи: 10\n",
      "55\n"
     ]
    }
   ],
   "source": [
    "n = int(input(\"Введите размерность ряда Фибоначчи: \"))\n",
    "fib_prev = 0\n",
    "fib_cur = 1\n",
    "for i in range(n-1):\n",
    "    fib_cur += fib_prev\n",
    "    fib_prev = fib_cur-fib_prev\n",
    "else:\n",
    "    print(fib_cur)"
   ]
  },
  {
   "cell_type": "markdown",
   "metadata": {},
   "source": [
    "### Таблица умножения"
   ]
  },
  {
   "cell_type": "code",
   "execution_count": 372,
   "metadata": {},
   "outputs": [
    {
     "name": "stdout",
     "output_type": "stream",
     "text": [
      "Введите число: 15\n",
      "15 X 1 = 15\n",
      "15 X 2 = 30\n",
      "15 X 3 = 45\n",
      "15 X 4 = 60\n",
      "15 X 5 = 75\n",
      "15 X 6 = 90\n",
      "15 X 7 = 105\n",
      "15 X 8 = 120\n",
      "15 X 9 = 135\n",
      "15 X 10 = 150\n"
     ]
    }
   ],
   "source": [
    "number = int(input(\"Введите число: \"))\n",
    "for i in range(1, 11):\n",
    "    print(number,\"X\", i, \"=\", number*i)"
   ]
  },
  {
   "cell_type": "markdown",
   "metadata": {},
   "source": [
    "### Прерывание цикла"
   ]
  },
  {
   "cell_type": "markdown",
   "metadata": {},
   "source": [
    "Напишите программу, которая ищет наибольший (не равный 1) общий делитель двух чисел, введённых пользователем (num_1, num_2), и выводит его на экран. Если общих делителей нет, выводит на экран \"Общих делителей не найдено\"."
   ]
  },
  {
   "cell_type": "code",
   "execution_count": 379,
   "metadata": {},
   "outputs": [
    {
     "name": "stdout",
     "output_type": "stream",
     "text": [
      "Введите первое число:1812\n",
      "Введите второе число:2500\n",
      "4\n"
     ]
    }
   ],
   "source": [
    "num_1 = int(input(\"Введите первое число:\"))\n",
    "num_2 = int(input(\"Введите второе число:\"))\n",
    "\n",
    "# способ 1\n",
    "if num_1 < num_2:\n",
    "    count = num_1\n",
    "else:\n",
    "    count = num_2\n",
    "devider = 1\n",
    "for i in range(2, count+1):\n",
    "    if num_1%i == 0 and num_2%i == 0:\n",
    "        devider = i\n",
    "else:\n",
    "    if devider == 1:\n",
    "        print(\"Общих детилелей не найдено.\")\n",
    "print(devider)\n",
    "\n",
    "# способ 2 (найти множества делителей по обоиим числам, а потом пройтись циклом по одному из них, и сравнить со вторым,\n",
    "# чтобы найти пересечение. Из нового множества пересечений найти максимальное значение и его вывести.)\n",
    "# (devider_1, devider_2) = (1, 1)\n",
    "# for i in range(2, num_1+1):\n",
    "#     if num_1%i == 0:\n",
    "#         devider_1 = i"
   ]
  },
  {
   "cell_type": "markdown",
   "metadata": {},
   "source": [
    "Напишите программу с использованием оператора continue, которая принимает на вход строку (string), после чего выводит её посимвольно, но без букв \"а\", \"б\", \"в\". Пример: ввод \"арбуз\", вывод \"руз\"."
   ]
  },
  {
   "cell_type": "code",
   "execution_count": 383,
   "metadata": {},
   "outputs": [
    {
     "name": "stdout",
     "output_type": "stream",
     "text": [
      "Введите строку: абстракция\n",
      "стркция"
     ]
    }
   ],
   "source": [
    "string = input(\"Введите строку: \")\n",
    "for i,letter in enumerate(string):\n",
    "    if letter in [\"а\", \"б\", \"в\"]:\n",
    "        continue\n",
    "    print(letter, end=\"\")"
   ]
  },
  {
   "cell_type": "markdown",
   "metadata": {},
   "source": [
    "Напишите программу, которая анализирует ответы пользователя на вопрос \"Любите ли вы Python?\". Если ответ пользователя (string) — \"Да\", то программа отвечает: \"Это отлично!\", иначе программа отвечает: \"Увы, это неправильный ответ\". Программа должна \"спросить\" пользователя максимум 5 раз. При пяти ответах \"Нет\" выводит: \"Это безнадёжно!\"."
   ]
  },
  {
   "cell_type": "code",
   "execution_count": 388,
   "metadata": {},
   "outputs": [
    {
     "name": "stdout",
     "output_type": "stream",
     "text": [
      "Введите ответ (Да/Нет): Нет\n",
      "Увы, это неправильный ответ\n",
      "Введите ответ (Да/Нет): Нет\n",
      "Увы, это неправильный ответ\n",
      "Введите ответ (Да/Нет): Да\n",
      "Это отлично!\n"
     ]
    }
   ],
   "source": [
    "for i in range(5):\n",
    "    string = input(\"Введите ответ (Да/Нет): \")\n",
    "    if string == \"Да\":\n",
    "        print(\"Это отлично!\")\n",
    "        break\n",
    "    elif string == \"Нет\":\n",
    "        print(\"Увы, это неправильный ответ\")\n",
    "else:\n",
    "    print(\"Это безнадёжно!\")"
   ]
  },
  {
   "cell_type": "markdown",
   "metadata": {},
   "source": [
    "Напишите программу, которая проверяет, является ли введённое число (number) простым. Если число простое, то программа выводит \"Простое\", иначе \"Не является простым\"."
   ]
  },
  {
   "cell_type": "code",
   "execution_count": 399,
   "metadata": {},
   "outputs": [
    {
     "name": "stdout",
     "output_type": "stream",
     "text": [
      "Введите число для проверки: 173\n",
      "Простое\n"
     ]
    }
   ],
   "source": [
    "number = int(input(\"Введите число для проверки: \"))\n",
    "for i in range(2,number):\n",
    "    if number%i == 0:\n",
    "        print(\"Не является простым\")\n",
    "        break\n",
    "else:\n",
    "    print(\"Простое\")"
   ]
  },
  {
   "cell_type": "markdown",
   "metadata": {},
   "source": [
    "Напишите программу, которая проверяет введённую пользователем строку (string) на соответствие правилу: у строки нет ни одной гласной русской маленькой буквы на каждой чётной позиции. Пример подходящей строки: \"пока!\" (в Python первый символ является нулевым, поэтому мы считаем первый символ чётным). Если строка подходит, программа выводит на экран \"Какая хорошая строка!\", а иначе — \"Строка мне не нравится!\"."
   ]
  },
  {
   "cell_type": "code",
   "execution_count": 406,
   "metadata": {},
   "outputs": [
    {
     "name": "stdout",
     "output_type": "stream",
     "text": [
      "Введите строку для проверки:\tпрелестная строка\n",
      "Строка мне не нравится! я\n"
     ]
    }
   ],
   "source": [
    "string = input(\"Введите строку для проверки:\\t\")\n",
    "for i,letter in enumerate(string, 1):\n",
    "    if i%2 == 0:\n",
    "        if letter in ['а', 'я', 'о', 'е', 'ё', 'и', 'ы', 'у', 'ю', 'ы', 'э']:\n",
    "            print(\"Строка мне не нравится!\")\n",
    "            break;\n",
    "else:\n",
    "    print(\"Какая хорошая строка!\")\n"
   ]
  },
  {
   "cell_type": "markdown",
   "metadata": {},
   "source": [
    "лиент банка открыл вклад под 10% годовых и положил на этот счёт Y рублей. Напишите программу, позволяющую определить, через сколько лет клиент будет иметь на счету сумму не менее Z рублей. На вход программе идут два числа — Y, Z."
   ]
  },
  {
   "cell_type": "code",
   "execution_count": 413,
   "metadata": {},
   "outputs": [
    {
     "name": "stdout",
     "output_type": "stream",
     "text": [
      "Введите сумму вклада: 170000\n",
      "Введите уровень накоплений: 1000000\n",
      "19\n"
     ]
    }
   ],
   "source": [
    "Y = int(input(\"Введите сумму вклада: \"))\n",
    "Z = int(input(\"Введите уровень накоплений: \"))\n",
    "year = 0\n",
    "while Y < Z:\n",
    "    year += 1\n",
    "    Y *= 1.1\n",
    "else:\n",
    "    print(year)\n"
   ]
  },
  {
   "cell_type": "markdown",
   "metadata": {},
   "source": [
    "Пассажирский лифт имеет ограничение на перевозку: не более 400 кг единовременно. Пусть на вход программе поступает вес (weight) входящих в лифт людей, а в случае, когда возникает перевес, программа выдаёт предупреждение: \"Перевес N кг\". Например, при перевесе в 15 кг должно быть выведено сообщение: \"Перевес 15 кг\". Обратите внимание, что в эталонной фразе не используются знаки препинания."
   ]
  },
  {
   "cell_type": "code",
   "execution_count": 416,
   "metadata": {},
   "outputs": [
    {
     "name": "stdout",
     "output_type": "stream",
     "text": [
      "Введите вес входящего (кг): 77\n",
      "Введите вес входящего (кг): 77\n",
      "Введите вес входящего (кг): 77\n",
      "Введите вес входящего (кг): 77\n",
      "Введите вес входящего (кг): 77\n",
      "Введите вес входящего (кг): 77\n",
      "Перевес 62 кг\n"
     ]
    }
   ],
   "source": [
    "total = 0\n",
    "while total < 400:\n",
    "    weight = int(input(\"Введите вес входящего (кг): \"))\n",
    "    total += weight\n",
    "else:\n",
    "    print(\"Перевес\", total - 400, \"кг\")"
   ]
  },
  {
   "cell_type": "markdown",
   "metadata": {},
   "source": [
    "Вы играете в компьютерную игру, дошли до схватки с финальным боссом, но вот беда: ваш компьютер \"заглючил\", и вы не можете управлять персонажем в игре. Босс атакует и каждую секунду наносит один удар, который отнимает у вас 80 единиц здоровья. На схватку с боссом вы вышли с 500 единицами здоровья. Создайте цикл, позволяющий понять, через сколько секунд босс вас убьет."
   ]
  },
  {
   "cell_type": "code",
   "execution_count": 417,
   "metadata": {},
   "outputs": [
    {
     "name": "stdout",
     "output_type": "stream",
     "text": [
      "7\n"
     ]
    }
   ],
   "source": [
    "current_health = 500\n",
    "attack = 80\n",
    "count = 0\n",
    "while current_health > 0:\n",
    "    count += 1\n",
    "    current_health -= attack\n",
    "else:\n",
    "    print(count)"
   ]
  },
  {
   "cell_type": "markdown",
   "metadata": {},
   "source": [
    "### Списание с карты"
   ]
  },
  {
   "cell_type": "code",
   "execution_count": 421,
   "metadata": {},
   "outputs": [
    {
     "name": "stdout",
     "output_type": "stream",
     "text": [
      "10000\n",
      "7200\n",
      "4400\n",
      "1600\n",
      "Слишком большие расходы\n"
     ]
    }
   ],
   "source": [
    "spent = 2800\n",
    "balance = 10000\n",
    "while balance > 0:\n",
    "    print(balance)\n",
    "    balance -= spent;\n",
    "else:\n",
    "    print(\"Слишком большие расходы\")"
   ]
  },
  {
   "cell_type": "markdown",
   "metadata": {},
   "source": [
    "### Заполнене цистерны"
   ]
  },
  {
   "cell_type": "markdown",
   "metadata": {},
   "source": [
    "Представьте, что перед вами большая цистерна объёмом 1000 литров, которую необходимо заполнить водой. У вас есть робот, который доставляет в цистерну сначала 5 литров, а затем каждый раз на 5 литров больше, чем в предыдущий. Изначально в цистерне нет воды. Через сколько заходов робота вода польётся через край?\n",
    "\n",
    "В результате работы программа должна вывести на экран число заходов, необходимых роботу для заполнения цистерны до краёв. Ответ должен быть выведен на экран в виде целого числа без какого-либо дополнительного поясняющего текста.\n",
    "\n",
    "Для проверки используйте переменную volume, равную свободному объёму в цистерне, и меняйте её по ходу цикла (на последнем шаге она должна быть меньше нуля)."
   ]
  }
 ],
 "metadata": {
  "kernelspec": {
   "display_name": "Python 3",
   "language": "python",
   "name": "python3"
  },
  "language_info": {
   "codemirror_mode": {
    "name": "ipython",
    "version": 3
   },
   "file_extension": ".py",
   "mimetype": "text/x-python",
   "name": "python",
   "nbconvert_exporter": "python",
   "pygments_lexer": "ipython3",
   "version": "3.9.0"
  }
 },
 "nbformat": 4,
 "nbformat_minor": 4
}
