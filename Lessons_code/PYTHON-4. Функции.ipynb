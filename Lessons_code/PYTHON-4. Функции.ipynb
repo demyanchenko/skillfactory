{
 "cells": [
  {
   "cell_type": "markdown",
   "metadata": {},
   "source": [
    "# PYTHON-4. Функции "
   ]
  },
  {
   "cell_type": "code",
   "execution_count": 3,
   "metadata": {},
   "outputs": [
    {
     "name": "stdout",
     "output_type": "stream",
     "text": [
      "400\n"
     ]
    }
   ],
   "source": [
    "# Посчитайте квадрат 20. Для этого вызовите функцию square для 20 и запишите результат в переменную square_result\n",
    "def square(x):\n",
    "    return x**2\n",
    "\n",
    "square_result = square(20)\n",
    "\n",
    "print(square_result)"
   ]
  },
  {
   "cell_type": "code",
   "execution_count": 4,
   "metadata": {},
   "outputs": [
    {
     "name": "stdout",
     "output_type": "stream",
     "text": [
      "115\n"
     ]
    }
   ],
   "source": [
    "# Исправьте этот код: дополните функцию sum_2, чтобы она принимала аргументы x и y, а потом возвращала их сумму. \n",
    "# Затем вызовите sum_2 для 42 и 73 и выведите на экран полученный результат.\n",
    "\n",
    "# Дополните аргументы и код функции\n",
    "def sum_2(x, y):\n",
    "    result = x + y\n",
    "    return result\n",
    "\n",
    "# Передайте аргументы 42 и 73 в функцию\n",
    "print(sum_2(42, 73))"
   ]
  },
  {
   "cell_type": "code",
   "execution_count": 6,
   "metadata": {},
   "outputs": [
    {
     "name": "stdout",
     "output_type": "stream",
     "text": [
      "8\n"
     ]
    }
   ],
   "source": [
    "# Напишите функцию power, которая возводит первый аргумент в степень второго аргумента. \n",
    "# Например, power(2, 3) должен вернуть 8, а power(4, 2) - 16\n",
    "def power(x,n):\n",
    "    return x**n\n",
    "\n",
    "print(power(2,3))"
   ]
  },
  {
   "cell_type": "code",
   "execution_count": 82,
   "metadata": {},
   "outputs": [
    {
     "name": "stdout",
     "output_type": "stream",
     "text": [
      "5.0\n",
      "3\n",
      "5.0\n"
     ]
    }
   ],
   "source": [
    "# Постройте функцию get_median, которая принимает на вход список чисел и возвращает медиану, \n",
    "# например, для этого списка.\n",
    "def get_median(numbers):\n",
    "    numbers.sort()\n",
    "#     print(numbers)\n",
    "    position = len(numbers)//2\n",
    "    if len(numbers)%2 == 0:\n",
    "        # вычислить медиану между двумя числами\n",
    "        median = (numbers[position-1]+numbers[position])/2\n",
    "    else:\n",
    "        # взять серединный элемент из списка\n",
    "        median = numbers[position]\n",
    "    return median\n",
    "\n",
    "print(get_median([7, 1, 2, 3, 15, 32]))\n",
    "\n",
    "print(get_median([5, 2, 1, 3, 4]))\n",
    "print(get_median([3, 3, 7, 9]))"
   ]
  },
  {
   "cell_type": "code",
   "execution_count": 87,
   "metadata": {},
   "outputs": [
    {
     "name": "stdout",
     "output_type": "stream",
     "text": [
      "29.0\n"
     ]
    }
   ],
   "source": [
    "# Перепишите код ниже, определив функцию avg_orders(user_db), которая возвращает \n",
    "# среднее число заказов по данным в базе. Затем выведите на экран результат вызова этой функции для user_db\n",
    "\n",
    "def avg_orders(db):\n",
    "    return sum([user['orders'] for user in user_db])/len(user_db)\n",
    "\n",
    "user_db = [{'orders': 12}, {'orders': 30}, {'orders': 45}]\n",
    "print(avg_orders(user_db))"
   ]
  },
  {
   "cell_type": "code",
   "execution_count": 140,
   "metadata": {},
   "outputs": [
    {
     "data": {
      "text/plain": [
       "'€1.37'"
      ]
     },
     "execution_count": 140,
     "metadata": {},
     "output_type": "execute_result"
    }
   ],
   "source": [
    "# Определите функцию get_euro_rate, которая возвращает случайное число от 65 до 85. \n",
    "# Перепишите to_euro из примера выше, чтобы вместо постоянного exchange_rate 70 она использовала get_euro_rate\n",
    "\n",
    "from random import random\n",
    "# print(random())\n",
    "\n",
    "def get_euro_rate():\n",
    "    rate = 0.0\n",
    "    while rate < 0.65 or rate > 0.85:\n",
    "        rate = random()\n",
    "    return rate*100\n",
    "\n",
    "\n",
    "# используйте get_euro_rate в следующей функции\n",
    "def to_euro(price):  \n",
    "    exchange_rate = get_euro_rate()\n",
    "    rounded = round(price/exchange_rate, 2)  \n",
    "    return '€' + str(rounded)\n",
    "\n",
    "to_euro(100)"
   ]
  },
  {
   "cell_type": "markdown",
   "metadata": {},
   "source": [
    "## .map()\n",
    "первый аргумент - функция с действием (модификация)"
   ]
  },
  {
   "cell_type": "code",
   "execution_count": 147,
   "metadata": {
    "scrolled": true
   },
   "outputs": [
    {
     "data": {
      "text/plain": [
       "[-14, -10, -3, -2, 5, 24]"
      ]
     },
     "execution_count": 147,
     "metadata": {},
     "output_type": "execute_result"
    }
   ],
   "source": [
    "# Напишите выражение c map, которое из каждого элемента values вычитает среднее значение mean. \n",
    "# Результирующий список положите в переменную result.\n",
    "values = [4, 8, 15, 16, 23, 42]\n",
    "mean = 18\n",
    "\n",
    "result = list(map(lambda x: x - mean, values))\n",
    "result"
   ]
  },
  {
   "cell_type": "markdown",
   "metadata": {},
   "source": [
    "## .filter()\n",
    "первый аргумент - функция с условием (сравнение). Возвращает булево значение."
   ]
  },
  {
   "cell_type": "code",
   "execution_count": 149,
   "metadata": {},
   "outputs": [
    {
     "data": {
      "text/plain": [
       "[23, 42]"
      ]
     },
     "execution_count": 149,
     "metadata": {},
     "output_type": "execute_result"
    }
   ],
   "source": [
    "# Для заданных чисел values и среднего значения mean напишите такой filter, \n",
    "# который оставляет только элементы больше среднего значения.\n",
    "values = [4, 8, 15, 16, 23, 42]\n",
    "mean = 18\n",
    "\n",
    "result = list(filter(lambda x: x > mean, values))\n",
    "result"
   ]
  },
  {
   "cell_type": "markdown",
   "metadata": {},
   "source": [
    "### Необязательные параметры"
   ]
  },
  {
   "cell_type": "code",
   "execution_count": 180,
   "metadata": {},
   "outputs": [
    {
     "name": "stdout",
     "output_type": "stream",
     "text": [
      "Грузим картинку \"Жопа\" шириной 100px и высотой 200px  в браузере Yandex\n"
     ]
    }
   ],
   "source": [
    "def image(name, width=100, height=200, chanel=1, browse='IE'):\n",
    "    img = 'Грузим картинку \"{}\" шириной {}px и высотой {}px  в браузере {}'.format(name, width, height,browse)\n",
    "    return img\n",
    "print(image('Жопа', browse='Yandex'))"
   ]
  },
  {
   "cell_type": "code",
   "execution_count": 170,
   "metadata": {},
   "outputs": [
    {
     "data": {
      "text/plain": [
       "[-5, 5]"
      ]
     },
     "execution_count": 170,
     "metadata": {},
     "output_type": "execute_result"
    }
   ],
   "source": [
    "# Функция должна для каждого числа из numbers вычитать mean и полученный результат делить на std. \n",
    "# На выходе ожидается список из этих новых чисел.\n",
    "def normalize(numbers, mean=0, std=1):\n",
    "    return [int((x - mean)/std) for x in numbers]\n",
    "\n",
    "# normalize([10, 20])\n",
    "# normalize([10, 20], std=2)\n",
    "normalize([10, 20], mean=15)\n"
   ]
  },
  {
   "cell_type": "code",
   "execution_count": 185,
   "metadata": {},
   "outputs": [
    {
     "data": {
      "text/plain": [
       "21"
      ]
     },
     "execution_count": 185,
     "metadata": {},
     "output_type": "execute_result"
    }
   ],
   "source": [
    "# Теперь немного практики для закрепления. Определите функцию sum_args, которая суммирует все свои аргументы. \n",
    "def sum_args(*args):\n",
    "    sum = 0\n",
    "    for x in args:\n",
    "        sum += x\n",
    "    return sum\n",
    "sum_args(10, 15, -4)"
   ]
  },
  {
   "cell_type": "code",
   "execution_count": 224,
   "metadata": {},
   "outputs": [
    {
     "data": {
      "text/plain": [
       "3.4285714285714284"
      ]
     },
     "execution_count": 224,
     "metadata": {},
     "output_type": "execute_result"
    }
   ],
   "source": [
    "# Определите функцию count_letters(sentence, average), которая считает количество букв в строке без учёта пробелов. \n",
    "# У функции должен быть необязательный булевый аргумент average, который по умолчанию равен False. \n",
    "# Если он равен True, то функция должна возвращать количество букв в среднем на слово.\n",
    "import re\n",
    "def count_letters(sentence, average=False):\n",
    "    list_words = re.compile(\"[a-zа-я]+\").findall(sentence.lower())\n",
    "    if average:\n",
    "        result = len([letter for word in list_words for letter in word])/len(list_words)\n",
    "    else:\n",
    "        result = len([letter for word in re.compile(\"[a-zа-я]+\").findall(sentence.lower()) for letter in word])\n",
    "    return result\n",
    "# print(count_letters(\"Привет, пареньт!\", False))\n",
    "# count_letters(\"Beep boop\") # => 8\n",
    "# count_letters(\"Beep boop\", average=True) # => 4\n",
    "# count_letters(\"I will build my own theme park\") # => 24\n",
    "count_letters(\"I will build my own theme park\", average=True) # => 3.429"
   ]
  },
  {
   "cell_type": "code",
   "execution_count": 215,
   "metadata": {},
   "outputs": [
    {
     "name": "stdout",
     "output_type": "stream",
     "text": [
      "24\n"
     ]
    }
   ],
   "source": [
    "words = ['I', 'will', 'build', 'my', 'own', 'theme', 'park']\n",
    "print(len([letter for word in words for letter in word]))"
   ]
  },
  {
   "cell_type": "code",
   "execution_count": 258,
   "metadata": {},
   "outputs": [
    {
     "data": {
      "text/plain": [
       "5"
      ]
     },
     "execution_count": 258,
     "metadata": {},
     "output_type": "execute_result"
    }
   ],
   "source": [
    "# Напишите функцию always(n), которая возвращает функцию, которая в свою очередь возвращает n.\n",
    "def ret(n):\n",
    "    return n\n",
    "\n",
    "def always(n):\n",
    "    \"\"\"This function includes another function\n",
    "    \n",
    "    And someone...\n",
    "    \"\"\"\n",
    "    def ret():\n",
    "        return n\n",
    "    return ret\n",
    "\n",
    "five = always(5)\n",
    "five() # должно вернуть 5"
   ]
  }
 ],
 "metadata": {
  "kernelspec": {
   "display_name": "Python 3",
   "language": "python",
   "name": "python3"
  },
  "language_info": {
   "codemirror_mode": {
    "name": "ipython",
    "version": 3
   },
   "file_extension": ".py",
   "mimetype": "text/x-python",
   "name": "python",
   "nbconvert_exporter": "python",
   "pygments_lexer": "ipython3",
   "version": "3.9.0"
  }
 },
 "nbformat": 4,
 "nbformat_minor": 4
}
