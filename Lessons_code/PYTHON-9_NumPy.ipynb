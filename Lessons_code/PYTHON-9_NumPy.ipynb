{
 "cells": [
  {
   "cell_type": "markdown",
   "metadata": {},
   "source": [
    "# Юнит 2. Разведывательный анализ данных\n",
    "# PYTHON-9. Возможности библиотеки Numpy для работы с данными "
   ]
  },
  {
   "cell_type": "code",
   "execution_count": 58,
   "metadata": {},
   "outputs": [],
   "source": [
    "import numpy as np\n",
    "\n",
    "# Yahoo.Finance\n",
    "import pandas_datareader as pdr\n",
    "import datetime\n",
    "\n",
    "# Google.Finance\n",
    "import quandl\n",
    "\n",
    "import matplotlib.pyplot as plt\n",
    "# %matplotlib inline"
   ]
  },
  {
   "cell_type": "code",
   "execution_count": 12,
   "metadata": {},
   "outputs": [
    {
     "data": {
      "text/plain": [
       "array([[5, 6, 1],\n",
       "       [2, 2, 8],\n",
       "       [7, 8, 1]])"
      ]
     },
     "execution_count": 12,
     "metadata": {},
     "output_type": "execute_result"
    }
   ],
   "source": [
    "np.empty(5) # одномерный массив из пяти элементов, память для которого выделена, но не инициализирована\n",
    "np.zeros((10, 7)) # массив размером 10x7, заполненный нулями \n",
    "np.ones((3,3,3)) # массив размером 3х3х3, заполненный единицами \n",
    "np.eye(3) # единичная матрица (элементы главной диагонали равны 1, остальные — 0) размера 3х3\n",
    "np.full((3, 5), 3.14)  # массив 3x5 заполненный числом 3.14\n",
    "np.arange(0, 21, 7)  # одномерный массив, заполненный числами в диапазоне от 0 до 20 с шагом 7\n",
    "np.linspace(0, 1, 5)  # массив из пяти чисел, равномерно распределённых в интервале между 0 и 1 включительно\n",
    "np.random.randint(0, 10, (3, 3))  # массив размера 3х3, заполненный случайными числами из диапазона от 0 до 9 (включительно)"
   ]
  },
  {
   "cell_type": "code",
   "execution_count": 11,
   "metadata": {
    "scrolled": true
   },
   "outputs": [
    {
     "data": {
      "text/plain": [
       "array([[  1. ,  57. ,  71. , 127. , 141. , 197. , 211. , 267. , 281. ],\n",
       "       [  0.5,  28.5,  35.5,  63.5,  70.5,  98.5, 105.5, 133.5, 140.5],\n",
       "       [-99. , -43. , -29. ,  27. ,  41. ,  97. , 111. , 167. , 181. ]])"
      ]
     },
     "execution_count": 11,
     "metadata": {},
     "output_type": "execute_result"
    }
   ],
   "source": [
    "my_secret = [x for x in range(1, 301, 7) if x%10 == 7 or x%10 == 1]\n",
    "# my_secret\n",
    "np.array([my_secret, [x/2 for x in my_secret], [x-100 for x in my_secret]])"
   ]
  },
  {
   "cell_type": "code",
   "execution_count": 36,
   "metadata": {
    "scrolled": true
   },
   "outputs": [
    {
     "data": {
      "text/plain": [
       "array([[4, 0, 4],\n",
       "       [4, 5, 5],\n",
       "       [0, 1, 3]])"
      ]
     },
     "execution_count": 36,
     "metadata": {},
     "output_type": "execute_result"
    }
   ],
   "source": [
    "np.random.randint(0, 6, (3, 3))"
   ]
  },
  {
   "cell_type": "code",
   "execution_count": 40,
   "metadata": {
    "scrolled": true
   },
   "outputs": [
    {
     "data": {
      "text/plain": [
       "array([1, 3, 5, 7, 9])"
      ]
     },
     "execution_count": 40,
     "metadata": {},
     "output_type": "execute_result"
    }
   ],
   "source": [
    "np.array([i for i in range(11) if i%2])"
   ]
  },
  {
   "cell_type": "markdown",
   "metadata": {},
   "source": [
    "# Задание"
   ]
  },
  {
   "cell_type": "code",
   "execution_count": 59,
   "metadata": {},
   "outputs": [],
   "source": [
    "first_line = [x*y for x in range(2, 100, 6) for y in range (7, 1, -2)]\n",
    "second_line = [x ** 0.5 for x in range(1000, 1101, 2)]\n",
    "third_line = [x**2 for x in range(51)]\n",
    "\n",
    "big_secret = np.array([first_line, second_line, third_line, second_line, first_line])"
   ]
  },
  {
   "cell_type": "code",
   "execution_count": 90,
   "metadata": {},
   "outputs": [
    {
     "data": {
      "text/plain": [
       "array([[14.        , 10.        ,  6.        , 56.        , 40.        ],\n",
       "       [31.6227766 , 31.65438358, 31.68595904, 31.71750305, 31.74901573],\n",
       "       [ 0.        ,  1.        ,  4.        ,  9.        , 16.        ],\n",
       "       [31.6227766 , 31.65438358, 31.68595904, 31.71750305, 31.74901573],\n",
       "       [14.        , 10.        ,  6.        , 56.        , 40.        ]])"
      ]
     },
     "execution_count": 90,
     "metadata": {},
     "output_type": "execute_result"
    }
   ],
   "source": [
    "big_secret[:,:5]"
   ]
  },
  {
   "cell_type": "code",
   "execution_count": 65,
   "metadata": {},
   "outputs": [
    {
     "data": {
      "text/plain": [
       "3154.33"
      ]
     },
     "execution_count": 65,
     "metadata": {},
     "output_type": "execute_result"
    }
   ],
   "source": [
    "# 1.Чему равна сумма элементов последнего столбца массива? Ответ округлите до двух цифр после запятой:\n",
    "big_secret[:, -1].sum().round(2)"
   ]
  },
  {
   "cell_type": "code",
   "execution_count": 86,
   "metadata": {},
   "outputs": [
    {
     "name": "stdout",
     "output_type": "stream",
     "text": [
      "sum= 121.37\n"
     ]
    }
   ],
   "source": [
    "# 2.Выделите из каждой строки массива big_secret первые 5 элементов. \n",
    "# Чему равна сумма элементов главной диагонали получившейся матрицы? \n",
    "# Округлите ответ до двух цифр после запятой:\n",
    "\n",
    "# Сокращенная матрица и начальные параметры для расчёта\n",
    "small_secret = big_secret[:,:5]\n",
    "sum_diagonal = 0\n",
    "j = 0\n",
    "\n",
    "# Считаем главную диагональ\n",
    "for i in small_secret:\n",
    "    sum_diagonal += i[j]\n",
    "    j += 1\n",
    "    \n",
    "print('sum=',round(sum_diagonal, 2))"
   ]
  },
  {
   "cell_type": "code",
   "execution_count": 96,
   "metadata": {},
   "outputs": [
    {
     "name": "stdout",
     "output_type": "stream",
     "text": [
      "460.0\n",
      "33.075670817082454\n",
      "2304.0\n",
      "33.13608305156178\n",
      "294.0\n",
      "multiplier= 341505315559.2347\n"
     ]
    }
   ],
   "source": [
    "# 3.Выделите из каждой строки массива big_secret последние 5 элементов. \n",
    "# Чему равно произведение элементов главной диагонали получившейся матрицы? \n",
    "# Введите полученный результат без изменений и округлений.\n",
    "\n",
    "# Выделяем последние 5 элементов из строк и определяем параметры\n",
    "finish_5 = big_secret[:, -5:]\n",
    "mult_diagonal = 1\n",
    "j = 0\n",
    "\n",
    "# Считаем главную диагональ\n",
    "for i in finish_5:\n",
    "    print(i[j])\n",
    "    mult_diagonal *= i[j]\n",
    "    j += 1\n",
    "\n",
    "print('multiplier=',mult_diagonal)"
   ]
  },
  {
   "cell_type": "code",
   "execution_count": null,
   "metadata": {},
   "outputs": [],
   "source": []
  }
 ],
 "metadata": {
  "kernelspec": {
   "display_name": "Python 3",
   "language": "python",
   "name": "python3"
  },
  "language_info": {
   "codemirror_mode": {
    "name": "ipython",
    "version": 3
   },
   "file_extension": ".py",
   "mimetype": "text/x-python",
   "name": "python",
   "nbconvert_exporter": "python",
   "pygments_lexer": "ipython3",
   "version": "3.9.0"
  }
 },
 "nbformat": 4,
 "nbformat_minor": 4
}
