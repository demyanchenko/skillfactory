{
 "cells": [
  {
   "cell_type": "markdown",
   "metadata": {},
   "source": [
    "# Юнит 2. Разведывательный анализ данных\n",
    "# PYTHON-9. Возможности библиотеки Numpy для работы с данными "
   ]
  },
  {
   "cell_type": "code",
   "execution_count": 10,
   "metadata": {},
   "outputs": [],
   "source": [
    "import numpy as np"
   ]
  },
  {
   "cell_type": "code",
   "execution_count": 12,
   "metadata": {},
   "outputs": [
    {
     "data": {
      "text/plain": [
       "array([[5, 6, 1],\n",
       "       [2, 2, 8],\n",
       "       [7, 8, 1]])"
      ]
     },
     "execution_count": 12,
     "metadata": {},
     "output_type": "execute_result"
    }
   ],
   "source": [
    "np.empty(5) # одномерный массив из пяти элементов, память для которого выделена, но не инициализирована\n",
    "np.zeros((10, 7)) # массив размером 10x7, заполненный нулями \n",
    "np.ones((3,3,3)) # массив размером 3х3х3, заполненный единицами \n",
    "np.eye(3) # единичная матрица (элементы главной диагонали равны 1, остальные — 0) размера 3х3\n",
    "np.full((3, 5), 3.14)  # массив 3x5 заполненный числом 3.14\n",
    "np.arange(0, 21, 7)  # одномерный массив, заполненный числами в диапазоне от 0 до 20 с шагом 7\n",
    "np.linspace(0, 1, 5)  # массив из пяти чисел, равномерно распределённых в интервале между 0 и 1 включительно\n",
    "np.random.randint(0, 10, (3, 3))  # массив размера 3х3, заполненный случайными числами из диапазона от 0 до 9 (включительно)"
   ]
  },
  {
   "cell_type": "code",
   "execution_count": 11,
   "metadata": {
    "scrolled": true
   },
   "outputs": [
    {
     "data": {
      "text/plain": [
       "array([[  1. ,  57. ,  71. , 127. , 141. , 197. , 211. , 267. , 281. ],\n",
       "       [  0.5,  28.5,  35.5,  63.5,  70.5,  98.5, 105.5, 133.5, 140.5],\n",
       "       [-99. , -43. , -29. ,  27. ,  41. ,  97. , 111. , 167. , 181. ]])"
      ]
     },
     "execution_count": 11,
     "metadata": {},
     "output_type": "execute_result"
    }
   ],
   "source": [
    "my_secret = [x for x in range(1, 301, 7) if x%10 == 7 or x%10 == 1]\n",
    "# my_secret\n",
    "np.array([my_secret, [x/2 for x in my_secret], [x-100 for x in my_secret]])"
   ]
  },
  {
   "cell_type": "code",
   "execution_count": 36,
   "metadata": {
    "scrolled": true
   },
   "outputs": [
    {
     "data": {
      "text/plain": [
       "array([[4, 0, 4],\n",
       "       [4, 5, 5],\n",
       "       [0, 1, 3]])"
      ]
     },
     "execution_count": 36,
     "metadata": {},
     "output_type": "execute_result"
    }
   ],
   "source": [
    "np.random.randint(0, 6, (3, 3))"
   ]
  },
  {
   "cell_type": "code",
   "execution_count": 40,
   "metadata": {},
   "outputs": [
    {
     "data": {
      "text/plain": [
       "array([1, 3, 5, 7, 9])"
      ]
     },
     "execution_count": 40,
     "metadata": {},
     "output_type": "execute_result"
    }
   ],
   "source": [
    "np.array([i for i in range(11) if i%2])"
   ]
  }
 ],
 "metadata": {
  "kernelspec": {
   "display_name": "Python 3",
   "language": "python",
   "name": "python3"
  },
  "language_info": {
   "codemirror_mode": {
    "name": "ipython",
    "version": 3
   },
   "file_extension": ".py",
   "mimetype": "text/x-python",
   "name": "python",
   "nbconvert_exporter": "python",
   "pygments_lexer": "ipython3",
   "version": "3.9.0"
  }
 },
 "nbformat": 4,
 "nbformat_minor": 4
}
