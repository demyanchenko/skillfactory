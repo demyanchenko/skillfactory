{
 "cells": [
  {
   "cell_type": "code",
   "execution_count": 70,
   "metadata": {},
   "outputs": [
    {
     "name": "stdout",
     "output_type": "stream",
     "text": [
      "Ваш алгоритм угадывает число в среднем за 8 попыток\n",
      "Ваш алгоритм угадывает число в среднем за 5 попыток\n"
     ]
    },
    {
     "data": {
      "text/plain": [
       "5"
      ]
     },
     "execution_count": 70,
     "metadata": {},
     "output_type": "execute_result"
    }
   ],
   "source": [
    "import numpy as np\n",
    "\n",
    "\n",
    "def game_core_random(number):\n",
    "    '''Вриант алгоритма с поиском числа в диапазоне, стремящемуся к сужению в направлении числа (воронка)\n",
    "    Эффективность: 8 итераций'''\n",
    "    count = 1\n",
    "    range_predict = [1,101]\n",
    "    predict = np.random.randint(1,101)\n",
    "    \n",
    "    while number != predict:\n",
    "        #  Отрезаем левую или правую часть диапазона.\n",
    "        if predict < number: \n",
    "            range_predict[0] = predict\n",
    "        elif predict > number: \n",
    "            range_predict[1] = predict\n",
    "        \n",
    "        # Получаем случайное число из оставшегося диапазона\n",
    "        predict = np.random.randint(range_predict[0], range_predict[1])\n",
    "        count+=1\n",
    "    return(count)\n",
    "\n",
    "\n",
    "def game_core_median(number):\n",
    "    '''Вариант алгоритма с поиском числа методом деления пополам (тоже воронка)\n",
    "    Эффективность: 5 итераций'''\n",
    "    count = 1\n",
    "    range_predict = [1,101]\n",
    "    predict = get_median(range_predict)\n",
    "    while number != predict:\n",
    "        count += 1\n",
    "        #  Отрезаем левую или правую часть диапазона.\n",
    "        if predict < number: \n",
    "            range_predict[0] = predict\n",
    "        elif predict > number: \n",
    "            range_predict[1] = predict\n",
    "            \n",
    "        # Выбираем средний элемент оставшегося диапазона (медиану).\n",
    "        predict = get_median(range_predict)\n",
    "    return(count)\n",
    "\n",
    "\n",
    "def get_median(range_list):\n",
    "    '''Вычисление медианы ряда последовательных чисел, взятых из диапазона'''\n",
    "    len_range = (range_list[1] - range_list[0])\n",
    "    if len_range % 2 == 0:\n",
    "        median = range_list[0] + len_range/2\n",
    "    else:\n",
    "        median = range_list[0] + len_range//2\n",
    "    return int(median)\n",
    "\n",
    "\n",
    "def score_game(game_core):\n",
    "    '''Запускаем игру 1000 раз, чтобы узнать, как быстро игра угадывает число'''\n",
    "    count_ls = []\n",
    "    np.random.seed(1)  # фиксируем RANDOM SEED, чтобы ваш эксперимент был воспроизводим!\n",
    "    random_array = np.random.randint(1,101, size=(1000))\n",
    "    for number in random_array:\n",
    "        count_ls.append(game_core(number))\n",
    "    score = int(np.mean(count_ls))\n",
    "    print(f\"Ваш алгоритм угадывает число в среднем за {score} попыток\")\n",
    "    return(score)\n",
    "\n",
    "\n",
    "# Запуск проверки с применением генератора случайных чисел\n",
    "score_game(game_core_random)\n",
    "\n",
    "# Запуск проверки с применением вычисления медианы\n",
    "score_game(game_core_median)"
   ]
  },
  {
   "cell_type": "code",
   "execution_count": null,
   "metadata": {},
   "outputs": [],
   "source": []
  }
 ],
 "metadata": {
  "kernelspec": {
   "display_name": "Python 3",
   "language": "python",
   "name": "python3"
  },
  "language_info": {
   "codemirror_mode": {
    "name": "ipython",
    "version": 3
   },
   "file_extension": ".py",
   "mimetype": "text/x-python",
   "name": "python",
   "nbconvert_exporter": "python",
   "pygments_lexer": "ipython3",
   "version": "3.9.0"
  }
 },
 "nbformat": 4,
 "nbformat_minor": 4
}
