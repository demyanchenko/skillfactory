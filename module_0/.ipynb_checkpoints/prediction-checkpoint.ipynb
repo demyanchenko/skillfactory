{
 "cells": [
  {
   "cell_type": "code",
   "execution_count": 37,
   "metadata": {},
   "outputs": [
    {
     "name": "stdout",
     "output_type": "stream",
     "text": [
      "Start!\n",
      "Ваш алгоритм угадывает число в среднем за 8 попыток\n"
     ]
    },
    {
     "data": {
      "text/plain": [
       "8"
      ]
     },
     "execution_count": 37,
     "metadata": {},
     "output_type": "execute_result"
    }
   ],
   "source": [
    "import numpy as np\n",
    "\n",
    "def game_core_v3(number):\n",
    "    '''Сначала устанавливаем любое random число, а потом увеличиваем или уменьшаем его на половину диапазона\n",
    "    в зависимости от того, больше он или меньше задуманного (метод деления пополам)'''\n",
    "    count = 1\n",
    "    range_predict = [1, 101]\n",
    "    predict = np.random.randint(1,101)\n",
    "    # print(\"Random first:\", predict)\n",
    "    \n",
    "    while number != predict:\n",
    "        count+=1\n",
    "        if predict < number: \n",
    "            range_predict[0] = predict\n",
    "        elif predict > number: \n",
    "            range_predict[1] = predict\n",
    "        # Получаем случайное число из уменьшенного диапазона\n",
    "        predict = np.random.randint(range_predict[0], range_predict[1])\n",
    "        # print(\"Random \", count, \": \", predict)\n",
    "    return(count)\n",
    "\n",
    "\n",
    "def score_game(game_core):\n",
    "    '''Запускаем игру 1000 раз, чтобы узнать, как быстро игра угадывает число'''\n",
    "    count_ls = []\n",
    "    print(\"Start!\")\n",
    "    np.random.seed(1)  # фиксируем RANDOM SEED, чтобы ваш эксперимент был воспроизводим!\n",
    "    random_array = np.random.randint(1,101, size=(1000))\n",
    "    for number in random_array:\n",
    "        count_ls.append(game_core(number))\n",
    "    score = int(np.mean(count_ls))\n",
    "    print(f\"Ваш алгоритм угадывает число в среднем за {score} попыток\")\n",
    "    return(score)\n",
    "\n",
    "\n",
    "# Проверяем\n",
    "score_game(game_core_v3)"
   ]
  }
 ],
 "metadata": {
  "kernelspec": {
   "display_name": "Python 3",
   "language": "python",
   "name": "python3"
  },
  "language_info": {
   "codemirror_mode": {
    "name": "ipython",
    "version": 3
   },
   "file_extension": ".py",
   "mimetype": "text/x-python",
   "name": "python",
   "nbconvert_exporter": "python",
   "pygments_lexer": "ipython3",
   "version": "3.9.0"
  }
 },
 "nbformat": 4,
 "nbformat_minor": 4
}
